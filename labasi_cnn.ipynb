import pandas as pd

df1 = pd.read_csv('/Users/IMYV/Desktop/cfdb-django/data/tablets.csv', usecols=['title', 'region', 'period', 'Year'], engine='python')
df2 = pd.read_csv('/Users/IMYV/Desktop/cfdb-django/data/glyphs.csv', usecols=['tablet', 'sign', 'image'], engine='python')
df3 = pd.read_csv('/Users/IMYV/Desktop/cfdb-django/data/stdSigns.csv', usecols=['sign_name', 'image'], engine='python')

df4 = df1.merge(df2, left_on='title', right_on='tablet', how='right')
df5 = df4.drop(['tablet'], axis=1)

df6 = df5.merge(df3, left_on='sign', right_on='sign_name', how='right')
df7 = df6.drop(['sign_name'], axis=1)
df8 = df7.rename(index=str, columns={"title": "tablet", "Year": "year", "image_x": "glyph", "image_y": "std_sign"})

df8.set_index(["sign", "tablet"]).count(level="sign")
