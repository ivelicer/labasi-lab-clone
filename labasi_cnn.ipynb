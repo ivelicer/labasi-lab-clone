{
 "cells": [
  {
   "cell_type": "code",
   "execution_count": 246,
   "metadata": {},
   "outputs": [],
   "source": [
    "import pandas as pd\n",
    "\n",
    "#generate combined data tables \n",
    "\n",
    "df1 = pd.read_csv('/Users/IMYV/Desktop/cfdb-django/data/tablets.csv', usecols=['title', 'region', 'period', 'Year'], engine='python')\n",
    "df2 = pd.read_csv('/Users/IMYV/Desktop/cfdb-django/data/glyphs.csv', usecols=['tablet', 'sign', 'image'], engine='python')\n",
    "df3 = pd.read_csv('/Users/IMYV/Desktop/cfdb-django/data/stdSigns.csv', usecols=['sign_name', 'image'], engine='python')\n",
    "\n",
    "df4 = df1.merge(df2, left_on='title', right_on='tablet', how='right')\n",
    "df5 = df4.drop(['tablet'], axis=1)\n",
    "\n",
    "df6 = df5.merge(df3, left_on='sign', right_on='sign_name', how='right')\n",
    "df7 = df6.drop(['sign_name'], axis=1)\n",
    "df8 = df7.rename(index=str, columns={\"title\": \"tablet\", \"Year\": \"year\", \"image_x\": \"glyph\", \"image_y\": \"std_sign\"})\n",
    "df9 = df8.sort_values('std_sign')"
   ]
  },
  {
   "cell_type": "code",
   "execution_count": 132,
   "metadata": {},
   "outputs": [
    {
     "name": "stdout",
     "output_type": "stream",
     "text": [
      "number of glyphs:  6494\n"
     ]
    }
   ],
   "source": [
    "#count number of glyphs\n",
    "print(\"number of glyphs: \", df2.shape[0])"
   ]
  },
  {
   "cell_type": "code",
   "execution_count": 116,
   "metadata": {
    "collapsed": true
   },
   "outputs": [],
   "source": [
    "#create table of number of glyphs per sign\n",
    "df10 = df9.set_index([\"tablet\", \"region\", \"period\", \"year\", \"sign\", \"std_sign\"]).count(level=\"std_sign\")\n",
    "df10.to_csv('glyph_count.csv')\n",
    "df11 = pd.read_csv('/Users/IMYV/Desktop/cfdb-django/glyph_count.csv', engine='python')\n",
    "df12 = df11.merge(df3, left_on='std_sign', right_on='image', how='right')\n",
    "df12 = df12.drop(['image'], axis=1)"
   ]
  },
  {
   "cell_type": "code",
   "execution_count": 117,
   "metadata": {
    "scrolled": true
   },
   "outputs": [
    {
     "name": "stdout",
     "output_type": "stream",
     "text": [
      "number of signs:  235\n"
     ]
    }
   ],
   "source": [
    "#count number of signs\n",
    "df13 = df12.count(axis=0)\n",
    "print(\"number of signs: \", df13[0])"
   ]
  },
  {
   "cell_type": "code",
   "execution_count": 118,
   "metadata": {},
   "outputs": [
    {
     "name": "stdout",
     "output_type": "stream",
     "text": [
      "           std_sign  glyph sign_name\n",
      "0      sign_002.bmp      9       HAL\n",
      "1      sign_005.bmp     81        BA\n",
      "2      sign_006.bmp     25        ZU\n",
      "3      sign_007.bmp     55        SU\n",
      "4      sign_009.bmp     15       BAL\n",
      "5       sign_01.bmp      8        AŠ\n",
      "6      sign_012.bmp     34       TAR\n",
      "7      sign_013.bmp     44        AN\n",
      "8      sign_015.bmp     50        KA\n",
      "9      sign_050.bmp     22      ARAD\n",
      "10     sign_052.bmp     79       ITU\n",
      "11     sign_054.bmp      1    BURU14\n",
      "12     sign_058.bmp     67        TU\n",
      "13     sign_059.bmp     39        LI\n",
      "14     sign_060.bmp     25       PAP\n",
      "15     sign_061.bmp     95        MU\n",
      "16     sign_063.bmp      9       KÁD\n",
      "17     sign_067.bmp      2       GIL\n",
      "18     sign_068.bmp     57        RU\n",
      "19     sign_070.bmp    130       NaN\n",
      "20     sign_073.bmp     69        TI\n",
      "21     sign_074.bmp     54       BAR\n",
      "22     sign_076.bmp      2       MÁŠ\n",
      "23     sign_077.bmp      3       KUN\n",
      "24     sign_078.bmp     43        HU\n",
      "25     sign_079.bmp     38       NAM\n",
      "26     sign_080.bmp     32        IG\n",
      "27     sign_084.bmp     91        RI\n",
      "28     sign_085.bmp     56        GI\n",
      "29     sign_087.bmp     19       NUN\n",
      "..              ...    ...       ...\n",
      "205    sign_579.bmp     76         A\n",
      "206    sign_583.bmp      1     EDURU\n",
      "207    sign_586.bmp     22        ZA\n",
      "208    sign_589.bmp     33        HA\n",
      "209    sign_592.bmp      4       SIG\n",
      "210    sign_595.bmp     42        ṬU\n",
      "211    sign_597.bmp     73        ŠÁ\n",
      "212    sign_598.bmp      3        IÁ\n",
      "213     sign_62.bmp     40        QA\n",
      "214    sign_63a.bmp      9       KÁD\n",
      "215     sign_69.bmp     24        BE\n",
      "216     sign_72.bmp     35       KUL\n",
      "217     sign_75.bmp     64        NU\n",
      "218    sign_758.bmp     17        IA\n",
      "219     sign_81.bmp     18       MUD\n",
      "220     sign_83.bmp      4       RAD\n",
      "221     sign_84.bmp     21        ZI\n",
      "222    sign_870.bmp     19       KAR\n",
      "223    sign_874.bmp      5       KÍD\n",
      "224    sign_886.bmp      6       DU6\n",
      "225    sign_887.bmp     12       ŠAR\n",
      "226    sign_888.bmp      4      SIPA\n",
      "227     sign_97.bmp     39        AG\n",
      "228     sign_99.bmp     47        EN\n",
      "229     sign_KU.bmp     53        KU\n",
      "230     sign_LÁ.bmp      4        LÁ\n",
      "231    sign_NAB.bmp      7       NAB\n",
      "232     sign_NI.bmp     83        NI\n",
      "233  sign_NIGIN.bmp      4     NIGIN\n",
      "234    sign_PAD.bmp      7       PAD\n",
      "\n",
      "[235 rows x 3 columns]\n"
     ]
    }
   ],
   "source": [
    "#print number of glyphs per sign\n",
    "print(df12)"
   ]
  },
  {
   "cell_type": "code",
   "execution_count": 268,
   "metadata": {
    "scrolled": true
   },
   "outputs": [
    {
     "name": "stdout",
     "output_type": "stream",
     "text": [
      "number of tablets:  352\n",
      "\n",
      "             glyph  std_sign\n",
      "tablet                      \n",
      "AD -105A        32        31\n",
      "AD -132B        65        56\n",
      "AD -134         12        12\n",
      "AD -137A        45        41\n",
      "AD -137D        49        45\n",
      "AD -140C        66        53\n",
      "AD -144         49        43\n",
      "AD -155A        29        28\n",
      "AD -162         22        22\n",
      "AD -168A        73        62\n",
      "AD -171B        12        12\n",
      "AD -183A        25        24\n",
      "AD -204C        14        14\n",
      "AD -226A        20        20\n",
      "AD -261B         8         8\n",
      "AD -266A        12         9\n",
      "AD -270B        27        27\n",
      "AD -273B        25        25\n",
      "AD -328         14        14\n",
      "AD -330A+B      51        49\n",
      "AD -362         21        21\n",
      "AD -366A        24        22\n",
      "AD -95C         42        40\n",
      "AD -96A         28        26\n",
      "AD -99B         19        18\n",
      "AOAT 358 52     15        15\n",
      "BCHP 11         51        43\n",
      "BCHP 14         27        27\n",
      "BCHP 17         62        51\n",
      "BCHP 18        141        93\n",
      "...            ...       ...\n",
      "YOS 21 208       8         8\n",
      "YOS 21 209      11        11\n",
      "YOS 21 210       8         8\n",
      "YOS 21 211       9         9\n",
      "YOS 21 212      10        10\n",
      "YOS 21 213       6         6\n",
      "YOS 21 214       8         9\n",
      "YOS 21 216      14        14\n",
      "YOS 21 217       7         7\n",
      "YOS 21 218       4         4\n",
      "YOS 21 219       6         6\n",
      "YOS 6 100       18        18\n",
      "YOS 6 155       12        12\n",
      "YOS 6 159       32        32\n",
      "YOS 6 171       26        24\n",
      "YOS 6 238       15        15\n",
      "YOS 6 52        19        18\n",
      "YOS 6 64        25        24\n",
      "YOS 7 102       22        22\n",
      "YOS 7 110       32        31\n",
      "YOS 7 129       25        25\n",
      "YOS 7 154       29        29\n",
      "YOS 7 157       26        26\n",
      "YOS 7 174       30        30\n",
      "YOS 7 189       46        43\n",
      "YOS 7 196       25        25\n",
      "YOS 7 28        26        26\n",
      "YOS 7 49        26        26\n",
      "YOS 7 92        13        13\n",
      "YOS 9 82        33        32\n",
      "\n",
      "[352 rows x 2 columns]\n"
     ]
    }
   ],
   "source": [
    "#tablet data: number of tablets, glyphs per tablet, signs per tablet\n",
    "df15 = df9.sort_values(by=['tablet', 'std_sign'])\n",
    "df16 = df15.groupby(['tablet']).nunique()\n",
    "df16 = df16.drop(['tablet', 'region', 'period', 'year', 'sign'], axis=1)\n",
    "print(\"number of tablets: \", df16.count(axis=0)[1])\n",
    "print(\"\")\n",
    "print(df16)"
   ]
  }
 ],
 "metadata": {
  "kernelspec": {
   "display_name": "Python 3",
   "language": "python",
   "name": "python3"
  },
  "language_info": {
   "codemirror_mode": {
    "name": "ipython",
    "version": 3
   },
   "file_extension": ".py",
   "mimetype": "text/x-python",
   "name": "python",
   "nbconvert_exporter": "python",
   "pygments_lexer": "ipython3",
   "version": "3.6.2"
  }
 },
 "nbformat": 4,
 "nbformat_minor": 2
}
