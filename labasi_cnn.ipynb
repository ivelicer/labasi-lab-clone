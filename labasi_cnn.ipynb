{
 "cells": [
  {
   "cell_type": "code",
   "execution_count": 44,
   "metadata": {},
   "outputs": [],
   "source": [
    "import os\n",
    "import pandas as pd\n",
    "import tensorflow as tf\n",
    "import matplotlib.pyplot as plt\n",
    "\n",
    "n_glyphs = 6494\n",
    "\n",
    "df1 = pd.read_csv('/Users/IMYV/Desktop/cfdb-django/glyphs-aligned-w-std_sign-images.csv', usecols=['std_sign', 'glyph_img'])\n",
    "df2 = pd.read_csv('/Users/IMYV/Desktop/cfdb-django/glyph_count.csv', usecols=['std_sign', 'glyph_img']).sort_values(by='glyph_img')\n",
    "\n",
    "f=open('/Users/IMYV/Desktop/cfdb-django/media/training_set/trainig_data.csv', 'a+')\n",
    "\n",
    "df_group = df1.groupby(by=['std_sign'])\n",
    "df_group = sorted(df_group, key=lambda x: len(x[1])) #https://stackoverflow.com/questions/22291395/sorting-the-grouped-data-as-per-group-size-in-pandas\n",
    "\n",
    "for name,group in df_group:\n",
    "    if  group.count()[0] > 50:\n",
    "        group.reset_index().to_csv(f, header=None)\n",
    "        \n",
    "df_usable = pd.read_csv('/Users/IMYV/Desktop/cfdb-django/media/training_set/trainig_data.csv')\n",
    "df_shuffled = df_usable.sample(frac=1).reset_index(drop=True)\n",
    "df_shuffled.to_csv('/Users/IMYV/Desktop/cfdb-django/media/training_set/trainig_data.csv')\n",
    "\n",
    "df_example: "
   ]
  }
 ],
 "metadata": {
  "kernelspec": {
   "display_name": "Python 3",
   "language": "python",
   "name": "python3"
  },
  "language_info": {
   "codemirror_mode": {
    "name": "ipython",
    "version": 3
   },
   "file_extension": ".py",
   "mimetype": "text/x-python",
   "name": "python",
   "nbconvert_exporter": "python",
   "pygments_lexer": "ipython3",
   "version": "3.6.2"
  }
 },
 "nbformat": 4,
 "nbformat_minor": 2
}
