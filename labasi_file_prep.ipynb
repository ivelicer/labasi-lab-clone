{
 "cells": [
  {
   "cell_type": "code",
   "execution_count": 21,
   "metadata": {},
   "outputs": [
    {
     "name": "stdout",
     "output_type": "stream",
     "text": [
      "Thresholding number of glyphs per sign at 50...\n",
      "Thresholding finished.\n",
      "\n",
      "total train num: 2844\n",
      "total val num: 158\n",
      "total test num: 179\n",
      "\n",
      "Shuffling...\n",
      "Shuffling finished.\n"
     ]
    }
   ],
   "source": [
    "import os\n",
    "import random\n",
    "import numpy as np\n",
    "import pandas as pd\n",
    "import tensorflow as tf\n",
    "import matplotlib.pyplot as plt\n",
    "\n",
    "df1 = pd.read_csv('/Volumes/IMVDrive/cfdb-django/glyphs-aligned-w-std_sign-images.csv', usecols=['sign', 'glyph'])\n",
    "df_group = df1.groupby(by=['sign'])\n",
    "df_group = sorted(df_group, key=lambda x: len(x[1])) #https://stackoverflow.com/questions/22291395/sorting-the-grouped-data-as-per-group-size-in-pandas\n",
    "\n",
    "train_list = pd.DataFrame(data=None, columns=['sign', 'glyph'])\n",
    "val_list = pd.DataFrame(data=None, columns=['sign', 'glyph'])\n",
    "test_list = pd.DataFrame(data=None, columns=['sign', 'glyph'])\n",
    "\n",
    "group_count = 0\n",
    "print(\"Thresholding number of glyphs per sign at 50...\")\n",
    "first = True\n",
    "for name,group in df_group:\n",
    "    if len(group) >= 50:\n",
    "        group_count = group_count+1\n",
    "        train_list = pd.concat([train_list, group[0:int(0.9*len(group))]], join_axes=[group.columns])\n",
    "        val_list = pd.concat([val_list, group[int(0.9*len(group)):int(0.95*len(group))]], join_axes=[group.columns])\n",
    "        test_list = pd.concat([test_list, group[int(0.95*len(group)):]], join_axes=[group.columns])\n",
    "print(\"Thresholding finished.\")\n",
    "print(\"\")\n",
    "print(\"total train num: \"+str(len(train_list)))\n",
    "print(\"total val num: \"+str(len(val_list)))\n",
    "print(\"total test num: \"+str(len(test_list)))\n",
    "\n",
    "batch_file_names = ['/Volumes/imvDrive/cfdb-django/media/train_batch.csv', \n",
    "                    '/Volumes/imvDrive/cfdb-django/media/validation_batch.csv', \n",
    "                    '/Volumes/imvDrive/cfdb-django/media/testing_batch.csv']\n",
    "\n",
    "train_list.to_csv(batch_file_names[0])\n",
    "val_list.to_csv(batch_file_names[1])\n",
    "test_list.to_csv(batch_file_names[2])\n",
    "\n",
    "print(\"\")\n",
    "print(\"Shuffling...\")\n",
    "for i in range(len(batch_file_names)):\n",
    "    f = open(batch_file_names[i], \"r\")\n",
    "    lines = f.readlines()\n",
    "    l = lines[1:]\n",
    "    f.close() \n",
    "    random.shuffle(l)\n",
    "\n",
    "    f = open(batch_file_names[i], \"w\")  \n",
    "    f.write(',sign,glyph\\n')\n",
    "    f.writelines(l)\n",
    "    f.close()\n",
    "print(\"Shuffling finished.\")\n"
   ]
  },
  {
   "cell_type": "code",
   "execution_count": null,
   "metadata": {
    "collapsed": true
   },
   "outputs": [],
   "source": []
  },
  {
   "cell_type": "code",
   "execution_count": null,
   "metadata": {
    "collapsed": true
   },
   "outputs": [],
   "source": []
  }
 ],
 "metadata": {
  "kernelspec": {
   "display_name": "Python 3",
   "language": "python",
   "name": "python3"
  },
  "language_info": {
   "codemirror_mode": {
    "name": "ipython",
    "version": 3
   },
   "file_extension": ".py",
   "mimetype": "text/x-python",
   "name": "python",
   "nbconvert_exporter": "python",
   "pygments_lexer": "ipython3",
   "version": "3.6.2"
  }
 },
 "nbformat": 4,
 "nbformat_minor": 2
}
