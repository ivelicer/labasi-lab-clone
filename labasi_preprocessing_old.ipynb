{
 "cells": [
  {
   "cell_type": "code",
   "execution_count": 1,
   "metadata": {},
   "outputs": [
    {
     "name": "stdout",
     "output_type": "stream",
     "text": [
      "START\n",
      "DONE creating glyphs\n"
     ]
    },
    {
     "ename": "KeyboardInterrupt",
     "evalue": "",
     "output_type": "error",
     "traceback": [
      "\u001b[0;31m---------------------------------------------------------------------------\u001b[0m",
      "\u001b[0;31mKeyboardInterrupt\u001b[0m                         Traceback (most recent call last)",
      "\u001b[0;32m<ipython-input-1-22718faf5a61>\u001b[0m in \u001b[0;36m<module>\u001b[0;34m()\u001b[0m\n\u001b[1;32m     46\u001b[0m         \u001b[0mimg2\u001b[0m \u001b[0;34m=\u001b[0m \u001b[0mimg1\u001b[0m\u001b[0;34m.\u001b[0m\u001b[0mresize\u001b[0m\u001b[0;34m(\u001b[0m\u001b[0;34m(\u001b[0m\u001b[0;36m331\u001b[0m\u001b[0;34m,\u001b[0m\u001b[0;36m331\u001b[0m\u001b[0;34m)\u001b[0m\u001b[0;34m)\u001b[0m \u001b[0;31m###uniform resize\u001b[0m\u001b[0;34m\u001b[0m\u001b[0m\n\u001b[1;32m     47\u001b[0m         \u001b[0mfilename\u001b[0m \u001b[0;34m=\u001b[0m \u001b[0mfilename\u001b[0m\u001b[0;34m.\u001b[0m\u001b[0msplit\u001b[0m\u001b[0;34m(\u001b[0m\u001b[0;34m'.'\u001b[0m\u001b[0;34m)\u001b[0m\u001b[0;34m\u001b[0m\u001b[0m\n\u001b[0;32m---> 48\u001b[0;31m         \u001b[0mimg2\u001b[0m\u001b[0;34m.\u001b[0m\u001b[0msave\u001b[0m\u001b[0;34m(\u001b[0m\u001b[0;34m'/Volumes/imvDrive/cfdb-django/media/processed_glyph_img/'\u001b[0m\u001b[0;34m+\u001b[0m\u001b[0mfilename\u001b[0m\u001b[0;34m[\u001b[0m\u001b[0;36m0\u001b[0m\u001b[0;34m]\u001b[0m\u001b[0;34m+\u001b[0m\u001b[0;34m'.jpeg'\u001b[0m\u001b[0;34m,\u001b[0m\u001b[0;34m'jpeg'\u001b[0m\u001b[0;34m)\u001b[0m\u001b[0;34m\u001b[0m\u001b[0m\n\u001b[0m\u001b[1;32m     49\u001b[0m         \u001b[0me_img\u001b[0m \u001b[0;34m=\u001b[0m \u001b[0mimg2\u001b[0m\u001b[0;34m.\u001b[0m\u001b[0mrotate\u001b[0m\u001b[0;34m(\u001b[0m\u001b[0;36m90\u001b[0m\u001b[0;34m)\u001b[0m\u001b[0;34m\u001b[0m\u001b[0m\n\u001b[1;32m     50\u001b[0m         \u001b[0ms_img\u001b[0m \u001b[0;34m=\u001b[0m \u001b[0mimg2\u001b[0m\u001b[0;34m.\u001b[0m\u001b[0mrotate\u001b[0m\u001b[0;34m(\u001b[0m\u001b[0;36m180\u001b[0m\u001b[0;34m)\u001b[0m\u001b[0;34m\u001b[0m\u001b[0m\n",
      "\u001b[0;32m/anaconda/envs/labasi/lib/python3.6/site-packages/PIL/Image.py\u001b[0m in \u001b[0;36msave\u001b[0;34m(self, fp, format, **params)\u001b[0m\n\u001b[1;32m   1888\u001b[0m             \u001b[0;31m# Open also for reading (\"+\"), because TIFF save_all\u001b[0m\u001b[0;34m\u001b[0m\u001b[0;34m\u001b[0m\u001b[0m\n\u001b[1;32m   1889\u001b[0m             \u001b[0;31m# writer needs to go back and edit the written data.\u001b[0m\u001b[0;34m\u001b[0m\u001b[0;34m\u001b[0m\u001b[0m\n\u001b[0;32m-> 1890\u001b[0;31m             \u001b[0mfp\u001b[0m \u001b[0;34m=\u001b[0m \u001b[0mbuiltins\u001b[0m\u001b[0;34m.\u001b[0m\u001b[0mopen\u001b[0m\u001b[0;34m(\u001b[0m\u001b[0mfilename\u001b[0m\u001b[0;34m,\u001b[0m \u001b[0;34m\"w+b\"\u001b[0m\u001b[0;34m)\u001b[0m\u001b[0;34m\u001b[0m\u001b[0m\n\u001b[0m\u001b[1;32m   1891\u001b[0m \u001b[0;34m\u001b[0m\u001b[0m\n\u001b[1;32m   1892\u001b[0m         \u001b[0;32mtry\u001b[0m\u001b[0;34m:\u001b[0m\u001b[0;34m\u001b[0m\u001b[0m\n",
      "\u001b[0;31mKeyboardInterrupt\u001b[0m: "
     ]
    }
   ],
   "source": [
    "import os\n",
    "import tensorflow as tf\n",
    "import pandas as pd\n",
    "from PIL import Image\n",
    "###training glyphs to sign\n",
    "\n",
    "'''\n",
    "ACDH\n",
    "I M Velicer\n",
    "1 Aug 2018\n",
    "\n",
    "### too inefficient\n",
    "### will manipulate directly in tensorflow\n",
    "'''\n",
    "print(\"START\")\n",
    "\n",
    "df1 = pd.read_csv('/Volumes/imvDrive/cfdb-django/glyphs-aligned-w-std_sign-images.csv', usecols=['glyph_img', 'std_sign'], engine='python')\n",
    "###pre-processing\n",
    "##std_signs\n",
    "directory = os.fsencode(b'/Volumes/imvDrive/cfdb-django/media/sign_img')\n",
    "for file in os.listdir(directory):\n",
    "    if file.endswith(b\".bmp\") or file.endswith(b\".png\") or file.endswith(b\".jpg\"): \n",
    "        filename = os.fsdecode(file)\n",
    "        try:\n",
    "            img1 = Image.open('/Volumes/imvDrive/cfdb-django/media/sign_img/'+filename).convert('L') ###convert to grayscale\n",
    "        except Exception:\n",
    "            pass\n",
    "        img2 = img1.resize((331,331)) ###uniform resize\n",
    "        #img2 = tf.image.per_image_standardization(img2)\n",
    "        filename = filename.split('.')\n",
    "        img2.save('/Volumes/imvDrive/cfdb-django/media/processed_sign_img/'+filename[0]+'.jpeg','jpeg')\n",
    "        e_img = img2.rotate(90)\n",
    "        s_img = img2.rotate(180)\n",
    "        w_img = img2.rotate(270)\n",
    "        e_img.save('/Volumes/imvDrive/cfdb-django/media/processed_sign_img/'+filename[0]+'_e.jpeg','jpeg')\n",
    "        s_img.save('/Volumes/imvDrive/cfdb-django/media/processed_sign_img/'+filename[0]+'_s.jpeg','jpeg')\n",
    "        w_img.save('/Volumes/imvDrive/cfdb-django/media/processed_sign_img/'+filename[0]+'_w.jpeg','jpeg')\n",
    "\n",
    "print('DONE creating std_signs')\n",
    "##glyphs\n",
    "directory = os.fsencode(b'/Volumes/imvDrive/cfdb-django/media/glyph_img')\n",
    "for file in os.listdir(directory):\n",
    "    if file.endswith(b\".bmp\") or file.endswith(b\".png\") or file.endswith(b\".jpg\"): \n",
    "        filename = os.fsdecode(file)\n",
    "        try:\n",
    "            img1 = Image.open(os.path.join(directory, bytes(filename, 'utf-8'))).convert('L') ###convert to grayscale\n",
    "        except Exception:\n",
    "            pass\n",
    "        img2 = img1.resize((331,331)) ###uniform resize\n",
    "        filename = filename.split('.')\n",
    "        img2.save('/Volumes/imvDrive/cfdb-django/media/processed_glyph_img/'+filename[0]+'.jpeg','jpeg')\n",
    "        e_img = img2.rotate(90)\n",
    "        s_img = img2.rotate(180)\n",
    "        w_img = img2.rotate(270)\n",
    "        e_img.save('/Volumes/imvDrive/cfdb-django/media/processed_glyph_img/'+filename[0]+'_e.jpeg','jpeg')\n",
    "        s_img.save('/Volumes/imvDrive/cfdb-django/media/processed_glyph_img/'+filename[0]+'_s.jpeg','jpeg')\n",
    "        w_img.save('/Volumes/imvDrive/cfdb-django/media/processed_glyph_img/'+filename[0]+'_w.jpeg','jpeg')\n",
    "        \n",
    "print('DONE creating glyphs')"
   ]
  },
  {
   "cell_type": "code",
   "execution_count": null,
   "metadata": {
    "collapsed": true
   },
   "outputs": [],
   "source": []
  }
 ],
 "metadata": {
  "kernelspec": {
   "display_name": "Python 3",
   "language": "python",
   "name": "python3"
  },
  "language_info": {
   "codemirror_mode": {
    "name": "ipython",
    "version": 3
   },
   "file_extension": ".py",
   "mimetype": "text/x-python",
   "name": "python",
   "nbconvert_exporter": "python",
   "pygments_lexer": "ipython3",
   "version": "3.6.2"
  }
 },
 "nbformat": 4,
 "nbformat_minor": 2
}
