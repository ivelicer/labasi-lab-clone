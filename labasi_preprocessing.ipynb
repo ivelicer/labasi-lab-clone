{
 "cells": [
  {
   "cell_type": "code",
   "execution_count": null,
   "metadata": {},
   "outputs": [],
   "source": [
    "import os\n",
    "import pandas as pd\n",
    "from PIL import Image\n",
    "###training glyphs to sign\n",
    "\n",
    "'''\n",
    "ACDH\n",
    "I M Velicer\n",
    "1 Aug 2018\n",
    "'''\n",
    "\n",
    "df1 = pd.read_csv('/Users/IMYV/Desktop/cfdb-django/glyphs-to-std_sign-images.csv', usecols=['glyph', 'std_sign'], engine='python')\n",
    "###pre-processing\n",
    "##std_signs\n",
    "directory = os.fsencode(b'/Users/IMYV/Desktop/cfdb-django/media/sign_img')\n",
    "for file in os.listdir(directory):\n",
    "    if file.endswith(b\".bmp\") or file.endswith(b\".png\") or file.endswith(b\".jpg\"): \n",
    "        filename = os.fsdecode(file)\n",
    "        img1 = Image.open(os.path.join(directory, bytes(filename, 'utf-8'))).convert('L') ###convert to grayscale\n",
    "        img2 = img1.resize((331,331)) ###uniform resize\n",
    "        filename = filename.split('.')\n",
    "        img2.save('/Users/IMYV/Desktop/cfdb-django/media/processed_sign_img/'+filename[0]+'.png','png')\n",
    "\n",
    "##glyphs\n",
    "directory = os.fsencode(b'/Users/IMYV/Desktop/cfdb-django/media/glyph_img')\n",
    "for file in os.listdir(directory):\n",
    "    if file.endswith(b\".bmp\") or file.endswith(b\".png\") or file.endswith(b\".jpg\"): \n",
    "        filename = os.fsdecode(file)\n",
    "        img1 = Image.open(os.path.join(directory, bytes(filename, 'utf-8'))).convert('L') ###convert to grayscale\n",
    "        img2 = img1.resize((331,331)) ###uniform resize\n",
    "        filename = filename.split('.')\n",
    "        img2.save('/Users/IMYV/Desktop/cfdb-django/media/processed_glyph_img/'+filename[0]+'.png','png')"
   ]
  }
 ],
 "metadata": {
  "kernelspec": {
   "display_name": "Python 3",
   "language": "python",
   "name": "python3"
  },
  "language_info": {
   "codemirror_mode": {
    "name": "ipython",
    "version": 3
   },
   "file_extension": ".py",
   "mimetype": "text/x-python",
   "name": "python",
   "nbconvert_exporter": "python",
   "pygments_lexer": "ipython3",
   "version": "3.6.2"
  }
 },
 "nbformat": 4,
 "nbformat_minor": 2
}
