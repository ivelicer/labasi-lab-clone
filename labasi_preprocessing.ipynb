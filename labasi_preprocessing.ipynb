{
 "cells": [
  {
   "cell_type": "code",
   "execution_count": 18,
   "metadata": {},
   "outputs": [
    {
     "name": "stdout",
     "output_type": "stream",
     "text": [
      "START\n"
     ]
    },
    {
     "ename": "KeyboardInterrupt",
     "evalue": "",
     "output_type": "error",
     "traceback": [
      "\u001b[0;31m---------------------------------------------------------------------------\u001b[0m",
      "\u001b[0;31mKeyboardInterrupt\u001b[0m                         Traceback (most recent call last)",
      "\u001b[0;32m<ipython-input-18-8fcbe34d4b05>\u001b[0m in \u001b[0;36m<module>\u001b[0;34m()\u001b[0m\n\u001b[1;32m     40\u001b[0m         \u001b[0mfilename\u001b[0m \u001b[0;34m=\u001b[0m \u001b[0mos\u001b[0m\u001b[0;34m.\u001b[0m\u001b[0mfsdecode\u001b[0m\u001b[0;34m(\u001b[0m\u001b[0mfile\u001b[0m\u001b[0;34m)\u001b[0m\u001b[0;34m\u001b[0m\u001b[0m\n\u001b[1;32m     41\u001b[0m         \u001b[0;32mtry\u001b[0m\u001b[0;34m:\u001b[0m\u001b[0;34m\u001b[0m\u001b[0m\n\u001b[0;32m---> 42\u001b[0;31m             \u001b[0mimg1\u001b[0m \u001b[0;34m=\u001b[0m \u001b[0mImage\u001b[0m\u001b[0;34m.\u001b[0m\u001b[0mopen\u001b[0m\u001b[0;34m(\u001b[0m\u001b[0mos\u001b[0m\u001b[0;34m.\u001b[0m\u001b[0mpath\u001b[0m\u001b[0;34m.\u001b[0m\u001b[0mjoin\u001b[0m\u001b[0;34m(\u001b[0m\u001b[0mdirectory\u001b[0m\u001b[0;34m,\u001b[0m \u001b[0mbytes\u001b[0m\u001b[0;34m(\u001b[0m\u001b[0mfilename\u001b[0m\u001b[0;34m,\u001b[0m \u001b[0;34m'utf-8'\u001b[0m\u001b[0;34m)\u001b[0m\u001b[0;34m)\u001b[0m\u001b[0;34m)\u001b[0m\u001b[0;34m.\u001b[0m\u001b[0mconvert\u001b[0m\u001b[0;34m(\u001b[0m\u001b[0;34m'L'\u001b[0m\u001b[0;34m)\u001b[0m \u001b[0;31m###convert to grayscale\u001b[0m\u001b[0;34m\u001b[0m\u001b[0m\n\u001b[0m\u001b[1;32m     43\u001b[0m         \u001b[0;32mexcept\u001b[0m \u001b[0mException\u001b[0m\u001b[0;34m:\u001b[0m\u001b[0;34m\u001b[0m\u001b[0m\n\u001b[1;32m     44\u001b[0m             \u001b[0;32mpass\u001b[0m\u001b[0;34m\u001b[0m\u001b[0m\n",
      "\u001b[0;32m/anaconda/envs/labasi/lib/python3.6/site-packages/PIL/Image.py\u001b[0m in \u001b[0;36mopen\u001b[0;34m(fp, mode)\u001b[0m\n\u001b[1;32m   2475\u001b[0m \u001b[0;34m\u001b[0m\u001b[0m\n\u001b[1;32m   2476\u001b[0m     \u001b[0;32mif\u001b[0m \u001b[0mfilename\u001b[0m\u001b[0;34m:\u001b[0m\u001b[0;34m\u001b[0m\u001b[0m\n\u001b[0;32m-> 2477\u001b[0;31m         \u001b[0mfp\u001b[0m \u001b[0;34m=\u001b[0m \u001b[0mbuiltins\u001b[0m\u001b[0;34m.\u001b[0m\u001b[0mopen\u001b[0m\u001b[0;34m(\u001b[0m\u001b[0mfilename\u001b[0m\u001b[0;34m,\u001b[0m \u001b[0;34m\"rb\"\u001b[0m\u001b[0;34m)\u001b[0m\u001b[0;34m\u001b[0m\u001b[0m\n\u001b[0m\u001b[1;32m   2478\u001b[0m         \u001b[0mexclusive_fp\u001b[0m \u001b[0;34m=\u001b[0m \u001b[0;32mTrue\u001b[0m\u001b[0;34m\u001b[0m\u001b[0m\n\u001b[1;32m   2479\u001b[0m \u001b[0;34m\u001b[0m\u001b[0m\n",
      "\u001b[0;31mKeyboardInterrupt\u001b[0m: "
     ]
    }
   ],
   "source": [
    "import os\n",
    "import tensorflow as tf\n",
    "import pandas as pd\n",
    "from PIL import Image\n",
    "###training glyphs to sign\n",
    "\n",
    "'''\n",
    "ACDH\n",
    "I M Velicer\n",
    "1 Aug 2018\n",
    "'''\n",
    "print(\"START\")\n",
    "\n",
    "df1 = pd.read_csv('/Volumes/imvDrive/cfdb-django/glyphs-aligned-w-std_sign-images.csv', usecols=['glyph_img', 'std_sign'], engine='python')\n",
    "###pre-processing\n",
    "##std_signs\n",
    "directory = os.fsencode(b'/Volumes/imvDrive/cfdb-django/media/sign_img')\n",
    "for file in os.listdir(directory):\n",
    "    if file.endswith(b\".bmp\") or file.endswith(b\".png\") or file.endswith(b\".jpg\"): \n",
    "        filename = os.fsdecode(file)\n",
    "        try:\n",
    "            img1 = Image.open('/Volumes/imvDrive/cfdb-django/media/sign_img/'+filename).convert('L') ###convert to grayscale\n",
    "        except Exception:\n",
    "            pass\n",
    "        img2 = img1.resize((331,331)) ###uniform resize\n",
    "        #img2 = tf.image.per_image_standardization(img2)\n",
    "        filename = filename.split('.')\n",
    "        img2.save('/Volumes/imvDrive/cfdb-django/media/processed_sign_img/'+filename[0]+'.jpeg','jpeg')\n",
    "        e_img = img2.rotate(90)\n",
    "        s_img = img2.rotate(180)\n",
    "        w_img = img2.rotate(270)\n",
    "        e_img.save('/Volumes/imvDrive/cfdb-django/media/processed_sign_img/'+filename[0]+'_e.jpeg','jpeg')\n",
    "        s_img.save('/Volumes/imvDrive/cfdb-django/media/processed_sign_img/'+filename[0]+'_s.jpeg','jpeg')\n",
    "        w_img.save('/Volumes/imvDrive/cfdb-django/media/processed_sign_img/'+filename[0]+'_w.jpeg','jpeg')\n",
    "\n",
    "##glyphs\n",
    "directory = os.fsencode(b'/Volumes/imvDrive/cfdb-django/media/glyph_img')\n",
    "for file in os.listdir(directory):\n",
    "    if file.endswith(b\".bmp\") or file.endswith(b\".png\") or file.endswith(b\".jpg\"): \n",
    "        filename = os.fsdecode(file)\n",
    "        try:\n",
    "            img1 = Image.open(os.path.join(directory, bytes(filename, 'utf-8'))).convert('L') ###convert to grayscale\n",
    "        except Exception:\n",
    "            pass\n",
    "        img2 = img1.resize((331,331)) ###uniform resize\n",
    "        filename = filename.split('.')\n",
    "        img2.save('/Volumes/imvDrive/cfdb-django/media/processed_glyph_img/'+filename[0]+'.jpeg','jpeg')\n",
    "        e_img = img2.rotate(90)\n",
    "        s_img = img2.rotate(180)\n",
    "        w_img = img2.rotate(270)\n",
    "        e_img.save('/Volumes/imvDrive/cfdb-django/media/processed_glyph_img/'+filename[0]+'_e.jpeg','jpeg')\n",
    "        s_img.save('/Volumes/imvDrive/cfdb-django/media/processed_glyph_img/'+filename[0]+'_s.jpeg','jpeg')\n",
    "        w_img.save('/Volumes/imvDrive/cfdb-django/media/processed_glyph_img/'+filename[0]+'_w.jpeg','jpeg')\n",
    "\n",
    "print(\"DONE\")"
   ]
  },
  {
   "cell_type": "code",
   "execution_count": null,
   "metadata": {
    "collapsed": true
   },
   "outputs": [],
   "source": []
  }
 ],
 "metadata": {
  "kernelspec": {
   "display_name": "Python 3",
   "language": "python",
   "name": "python3"
  },
  "language_info": {
   "codemirror_mode": {
    "name": "ipython",
    "version": 3
   },
   "file_extension": ".py",
   "mimetype": "text/x-python",
   "name": "python",
   "nbconvert_exporter": "python",
   "pygments_lexer": "ipython3",
   "version": "3.6.2"
  }
 },
 "nbformat": 4,
 "nbformat_minor": 2
}
